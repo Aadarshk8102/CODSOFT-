# recommendation_system.py
import pandas as pd
from sklearn.feature_extraction.text import TfidfVectorizer
from sklearn.metrics.pairwise import cosine_similarity

# Sample dataset
movies = {
    'title': ['Inception', 'The Matrix', 'Interstellar', 'Avengers', 'The Dark Knight'],
    'genre': ['sci-fi thriller', 'sci-fi action', 'sci-fi space', 'action superhero', 'dark action thriller']
}
df = pd.DataFrame(movies)

# TF-IDF on genres
tfidf = TfidfVectorizer()
tfidf_matrix = tfidf.fit_transform(df['genre'])
cosine_sim = cosine_similarity(tfidf_matrix, tfidf_matrix)

def recommend(movie_title):
    idx = df[df['title'] == movie_title].index[0]
    sim_scores = list(enumerate(cosine_sim[idx]))
    sim_scores = sorted(sim_scores, key=lambda x: x[1], reverse=True)[1:4]
    return df['title'].iloc[[i[0] for i in sim_scores]].tolist()

if __name__ == "__main__":
    print("Recommendations for Interstellar:", recommend("Interstellar"))